{
 "cells": [
  {
   "cell_type": "markdown",
   "metadata": {},
   "source": [
    "# Extract text from image based pdf using Tesseract and Google Cloud Vision ai API\n",
    "The idea of the next test is to use different strategies to extract text from 4 pdfs. The strategies are Tesseract and Google Cloud Vision ai API."
   ]
  },
  {
   "cell_type": "markdown",
   "metadata": {},
   "source": [
    "Importing libraries"
   ]
  },
  {
   "cell_type": "code",
   "execution_count": 4,
   "metadata": {},
   "outputs": [],
   "source": [
    "import glob\n",
    "# Importing functions\n",
    "%run help_functions.py"
   ]
  },
  {
   "cell_type": "markdown",
   "metadata": {},
   "source": [
    "#### Select the names of the pdf"
   ]
  },
  {
   "cell_type": "code",
   "execution_count": 5,
   "metadata": {},
   "outputs": [],
   "source": [
    "# Select all the paths with format .pdf\n",
    "paths = glob.glob(r\"data\\*.pdf\")\n",
    "# resolution of the image in the pdf to be extracted\n",
    "res = 700"
   ]
  },
  {
   "cell_type": "markdown",
   "metadata": {},
   "source": [
    "#### Extraction of the information with Tesseract\n",
    "id, names of the Otorgantes and Beneficiarios are included in the information bellow\n"
   ]
  },
  {
   "cell_type": "code",
   "execution_count": 6,
   "metadata": {},
   "outputs": [
    {
     "name": "stdout",
     "output_type": "stream",
     "text": [
      "data\\image-based-pdf-sample.pdf\n",
      "\n",
      "\n",
      "This is an example of an “Image-based PDE” (also known as image-only PDFs).\n",
      "\n",
      "Image-based PDFs are typically created through scanning paper in a copier, taking photographs\n",
      "or taking screenshots. To a computer, they are images. Though we humans can see text in the\n",
      "image, the file only consists of the image layer but not the searchable text layer that True PDFs\n",
      "contain. As a result, we cannot use a computer to search the text we see in the image as that text\n",
      "layer is missing. There are times when discovery 1s produced, it will be in an image-based PDF\n",
      "format. When you come across image-based PDFs, ask the U.S. Attorney’s Office in what\n",
      "format was that file originally. Second, ask 1f they have it in a searchable format and specifically\n",
      "if they have it in a digitally created, True, Text-based PDF format. They may not, as they often\n",
      "receive PDFs from other sources before they provide them to you, but you will want to know\n",
      "what is the format in which they have it in, and whats the original format of the file (as far as\n",
      "they know).\n",
      "\n"
     ]
    }
   ],
   "source": [
    "for pdf_path in paths:\n",
    "    print(pdf_path)\n",
    "    # Extract the information from page 1 that is the page where \n",
    "    # the information is located\n",
    "    text_1 = extract_text_from_image_pdf_page(pdf_path, 1, res)\n",
    "    print('\\n')\n",
    "    print(text_1)\n",
    "    # Extract the information after the word escritura and correct the words\n",
    "    # extracted wrongly like \"esgritura\" and are corrected with the word \"escritura\"\n",
    "    #text_2 = extract_info(text_1, 'escritura',80)\n",
    "    # Extract the text after the words \"escritura publica\" and extract 46 characters\n",
    "    # after those words\n",
    "    #text_3 = extract_info_2('escritura publica', text_2, 46)\n",
    "    #print(text_3)\n",
    "    # Matricula inmobiliaria\n",
    "    # Extract text after the words \"matricula inmobiliaria\" and extract 25 characters\n",
    "    # after those words\n",
    "    #text_4 = extract_info_2('matricula inmobiliaria', text_2, 25)\n",
    "    #print(text_4)\n",
    "    # actos\n",
    "    # Extract text after the word \"acto\" and extract 700 characters\n",
    "    # after that word\n",
    "    #text_5 = extract_info_2('acto', text_2, 700)\n",
    "    #print(text_5)\n",
    "\n",
    "    "
   ]
  },
  {
   "cell_type": "markdown",
   "metadata": {},
   "source": [
    "#### Extraction of the information with Google Cloud Vision ai Api"
   ]
  },
  {
   "cell_type": "code",
   "execution_count": 7,
   "metadata": {},
   "outputs": [],
   "source": [
    "credentials_path = \"../evalumine-412619-19f4201a8755.json\""
   ]
  },
  {
   "cell_type": "code",
   "execution_count": 8,
   "metadata": {},
   "outputs": [
    {
     "name": "stdout",
     "output_type": "stream",
     "text": [
      "data\\image-based-pdf-sample.pdf\n",
      "s\n",
      "This is an example of an \"Image-based PDF\" (also known as image-only PDFs).\n",
      "Image-based PDFs are typically created through scanning paper in a copier, taking photographs\n",
      "or taking screen shots. To a computer, they are images. Though we humans can see text in the\n",
      "image, the file only consists of the image layer but not the searchable text layer that True PDFs\n",
      "contain. As a result, we cannot use a computer to search the text we see in the image as that text\n",
      "layer is missing. There are times when discovery is produced, it will be in an image-based PDF\n",
      "format. When you come across image-based PDFs, ask the U.S. Attorney's Office in what\n",
      "format was that file originally. Second, ask if they have it in a searchable format and specifically\n",
      "if they have it in a digitally created, True, Text-based PDF format. They may not, as they often\n",
      "receive PDFs from other sources before they provide them to you, but you will want to know\n",
      "what is the format in which they have it in, and what is the original format of the file (as far as\n",
      "they know).\n"
     ]
    }
   ],
   "source": [
    "for pdf_path in paths:\n",
    "    print(pdf_path)\n",
    "    #extracted_text = extract_text_from_pdf(pdf_path, credentials_path)\n",
    "    extracted = google_extract(credentials_path, pdf_path, 1)\n",
    "    print(extracted)\n"
   ]
  }
 ],
 "metadata": {
  "kernelspec": {
   "display_name": "evalumine_env",
   "language": "python",
   "name": "python3"
  },
  "language_info": {
   "codemirror_mode": {
    "name": "ipython",
    "version": 3
   },
   "file_extension": ".py",
   "mimetype": "text/x-python",
   "name": "python",
   "nbconvert_exporter": "python",
   "pygments_lexer": "ipython3",
   "version": "3.10.9"
  }
 },
 "nbformat": 4,
 "nbformat_minor": 2
}
